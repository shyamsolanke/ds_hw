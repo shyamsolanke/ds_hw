{
  "nbformat": 4,
  "nbformat_minor": 0,
  "metadata": {
    "colab": {
      "provenance": [],
      "include_colab_link": true
    },
    "kernelspec": {
      "name": "python3",
      "display_name": "Python 3"
    },
    "language_info": {
      "name": "python"
    }
  },
  "cells": [
    {
      "cell_type": "markdown",
      "metadata": {
        "id": "view-in-github",
        "colab_type": "text"
      },
      "source": [
        "<a href=\"https://colab.research.google.com/github/shyamsolanke/ds_hw/blob/main/CMSC_HW5_Questions.ipynb\" target=\"_parent\"><img src=\"https://colab.research.google.com/assets/colab-badge.svg\" alt=\"Open In Colab\"/></a>"
      ]
    },
    {
      "cell_type": "markdown",
      "source": [
        "## Homework 5 Questions\n",
        "\n",
        "Same drill as Homework 3, the following questions are intended to get you familiarized with the [provided dataset](https://docs.google.com/spreadsheets/d/1tcqGAlaBOd9L9Lhb9u9_nUg9dSRY1usF80l2RNKiQN0/edit?usp=sharing). By answering these questions, it will hopefully give insights on how to complete the actual task (slide deck generation for the CEO).\n",
        "\n",
        "Please answer each of the questions below in the space provided. Copy the noteook, and when you're done, submit as an ipynb file. This will be graded on correctness. Please comment your code to help the grader figure out what you're doing. If you do a hypothesis test, please report all relevant p-values in the text field."
      ],
      "metadata": {
        "id": "fxezJKkMTtJS"
      }
    },
    {
      "cell_type": "markdown",
      "source": [
        "Imports and data loading:"
      ],
      "metadata": {
        "id": "eZm4jwhCU9xX"
      }
    },
    {
      "cell_type": "code",
      "execution_count": 37,
      "metadata": {
        "id": "qnHUFnHVTlqX"
      },
      "outputs": [],
      "source": [
        "import pandas as pd\n",
        "import requests\n",
        "url = \"https://raw.githubusercontent.com/shyamsolanke/ds_hw/refs/heads/main/GPA%20Dataset%20(Let's%20get%20spicy)%20(Responses)%20-%20Form%20Responses%201.csv\"\n",
        "df_raw = pd.read_csv(url)"
      ]
    },
    {
      "cell_type": "markdown",
      "source": [
        "Data cleaning:"
      ],
      "metadata": {
        "id": "r_RhtN5jU_hQ"
      }
    },
    {
      "cell_type": "code",
      "source": [
        "df_raw.columns"
      ],
      "metadata": {
        "id": "UphDHa1QuMWD",
        "outputId": "be834e85-f856-4492-cb7d-901b3808b257",
        "colab": {
          "base_uri": "https://localhost:8080/"
        }
      },
      "execution_count": 38,
      "outputs": [
        {
          "output_type": "execute_result",
          "data": {
            "text/plain": [
              "Index(['Timestamp', 'What state are you from?', 'Major (Check all that apply)',\n",
              "       'At what age did you start programming?',\n",
              "       'Have you at any point attended private school?',\n",
              "       'Do you have a scholarship?', 'Do you have a parent in tech?',\n",
              "       'Do you study with friends?', 'Do you take notes in classes?',\n",
              "       'How many credits did you take last semester?',\n",
              "       'What is your average screentime?',\n",
              "       'What is your average daily time on Tik Tok or Tik Tok equivalents?',\n",
              "       'How many hours of sleep do you get a night?',\n",
              "       'What was your GPA LAST SEMESTER?',\n",
              "       'What was your GPA THE SEMESTER BEFORE THAT?'],\n",
              "      dtype='object')"
            ]
          },
          "metadata": {},
          "execution_count": 38
        }
      ]
    },
    {
      "cell_type": "code",
      "source": [
        "# replacing null values with \"no\"\n",
        "df_raw[\"Do you have a scholarship?\"] = df_raw[\"Do you have a scholarship?\"].fillna(\"no\")"
      ],
      "metadata": {
        "id": "KG-ESjoDVAnW"
      },
      "execution_count": 39,
      "outputs": []
    },
    {
      "cell_type": "code",
      "source": [
        "df_raw.isna().sum()"
      ],
      "metadata": {
        "id": "VFO0Z7U7uTQK",
        "outputId": "8df0436d-43c6-4d0e-f7fe-5a74b7ca703a",
        "colab": {
          "base_uri": "https://localhost:8080/",
          "height": 554
        }
      },
      "execution_count": 40,
      "outputs": [
        {
          "output_type": "execute_result",
          "data": {
            "text/plain": [
              "Timestamp                                                             0\n",
              "What state are you from?                                              1\n",
              "Major (Check all that apply)                                          0\n",
              "At what age did you start programming?                                1\n",
              "Have you at any point attended private school?                        0\n",
              "Do you have a scholarship?                                            0\n",
              "Do you have a parent in tech?                                         0\n",
              "Do you study with friends?                                            0\n",
              "Do you take notes in classes?                                         0\n",
              "How many credits did you take last semester?                          0\n",
              "What is your average screentime?                                      3\n",
              "What is your average daily time on Tik Tok or Tik Tok equivalents?    4\n",
              "How many hours of sleep do you get a night?                           1\n",
              "What was your GPA LAST SEMESTER?                                      3\n",
              "What was your GPA THE SEMESTER BEFORE THAT?                           3\n",
              "dtype: int64"
            ],
            "text/html": [
              "<div>\n",
              "<style scoped>\n",
              "    .dataframe tbody tr th:only-of-type {\n",
              "        vertical-align: middle;\n",
              "    }\n",
              "\n",
              "    .dataframe tbody tr th {\n",
              "        vertical-align: top;\n",
              "    }\n",
              "\n",
              "    .dataframe thead th {\n",
              "        text-align: right;\n",
              "    }\n",
              "</style>\n",
              "<table border=\"1\" class=\"dataframe\">\n",
              "  <thead>\n",
              "    <tr style=\"text-align: right;\">\n",
              "      <th></th>\n",
              "      <th>0</th>\n",
              "    </tr>\n",
              "  </thead>\n",
              "  <tbody>\n",
              "    <tr>\n",
              "      <th>Timestamp</th>\n",
              "      <td>0</td>\n",
              "    </tr>\n",
              "    <tr>\n",
              "      <th>What state are you from?</th>\n",
              "      <td>1</td>\n",
              "    </tr>\n",
              "    <tr>\n",
              "      <th>Major (Check all that apply)</th>\n",
              "      <td>0</td>\n",
              "    </tr>\n",
              "    <tr>\n",
              "      <th>At what age did you start programming?</th>\n",
              "      <td>1</td>\n",
              "    </tr>\n",
              "    <tr>\n",
              "      <th>Have you at any point attended private school?</th>\n",
              "      <td>0</td>\n",
              "    </tr>\n",
              "    <tr>\n",
              "      <th>Do you have a scholarship?</th>\n",
              "      <td>0</td>\n",
              "    </tr>\n",
              "    <tr>\n",
              "      <th>Do you have a parent in tech?</th>\n",
              "      <td>0</td>\n",
              "    </tr>\n",
              "    <tr>\n",
              "      <th>Do you study with friends?</th>\n",
              "      <td>0</td>\n",
              "    </tr>\n",
              "    <tr>\n",
              "      <th>Do you take notes in classes?</th>\n",
              "      <td>0</td>\n",
              "    </tr>\n",
              "    <tr>\n",
              "      <th>How many credits did you take last semester?</th>\n",
              "      <td>0</td>\n",
              "    </tr>\n",
              "    <tr>\n",
              "      <th>What is your average screentime?</th>\n",
              "      <td>3</td>\n",
              "    </tr>\n",
              "    <tr>\n",
              "      <th>What is your average daily time on Tik Tok or Tik Tok equivalents?</th>\n",
              "      <td>4</td>\n",
              "    </tr>\n",
              "    <tr>\n",
              "      <th>How many hours of sleep do you get a night?</th>\n",
              "      <td>1</td>\n",
              "    </tr>\n",
              "    <tr>\n",
              "      <th>What was your GPA LAST SEMESTER?</th>\n",
              "      <td>3</td>\n",
              "    </tr>\n",
              "    <tr>\n",
              "      <th>What was your GPA THE SEMESTER BEFORE THAT?</th>\n",
              "      <td>3</td>\n",
              "    </tr>\n",
              "  </tbody>\n",
              "</table>\n",
              "</div><br><label><b>dtype:</b> int64</label>"
            ]
          },
          "metadata": {},
          "execution_count": 40
        }
      ]
    },
    {
      "cell_type": "code",
      "source": [
        "df_raw.dropna(inplace = True)"
      ],
      "metadata": {
        "id": "xp23fxZCu9Lr"
      },
      "execution_count": 41,
      "outputs": []
    },
    {
      "cell_type": "code",
      "source": [
        "df_raw[\"At what age did you start programming?\"].value_counts()"
      ],
      "metadata": {
        "id": "91jQ0TUTwbXq",
        "outputId": "4076de58-2752-48bf-faad-02adef47c895",
        "colab": {
          "base_uri": "https://localhost:8080/",
          "height": 585
        }
      },
      "execution_count": 43,
      "outputs": [
        {
          "output_type": "execute_result",
          "data": {
            "text/plain": [
              "At what age did you start programming?\n",
              "12.0    9\n",
              "17.0    9\n",
              "15.0    7\n",
              "18.0    7\n",
              "13.0    7\n",
              "14.0    6\n",
              "16.0    6\n",
              "11.0    5\n",
              "10.0    4\n",
              "8.0     1\n",
              "9.0     1\n",
              "23.0    1\n",
              "19.0    1\n",
              "1.0     1\n",
              "20.0    1\n",
              "Name: count, dtype: int64"
            ],
            "text/html": [
              "<div>\n",
              "<style scoped>\n",
              "    .dataframe tbody tr th:only-of-type {\n",
              "        vertical-align: middle;\n",
              "    }\n",
              "\n",
              "    .dataframe tbody tr th {\n",
              "        vertical-align: top;\n",
              "    }\n",
              "\n",
              "    .dataframe thead th {\n",
              "        text-align: right;\n",
              "    }\n",
              "</style>\n",
              "<table border=\"1\" class=\"dataframe\">\n",
              "  <thead>\n",
              "    <tr style=\"text-align: right;\">\n",
              "      <th></th>\n",
              "      <th>count</th>\n",
              "    </tr>\n",
              "    <tr>\n",
              "      <th>At what age did you start programming?</th>\n",
              "      <th></th>\n",
              "    </tr>\n",
              "  </thead>\n",
              "  <tbody>\n",
              "    <tr>\n",
              "      <th>12.0</th>\n",
              "      <td>9</td>\n",
              "    </tr>\n",
              "    <tr>\n",
              "      <th>17.0</th>\n",
              "      <td>9</td>\n",
              "    </tr>\n",
              "    <tr>\n",
              "      <th>15.0</th>\n",
              "      <td>7</td>\n",
              "    </tr>\n",
              "    <tr>\n",
              "      <th>18.0</th>\n",
              "      <td>7</td>\n",
              "    </tr>\n",
              "    <tr>\n",
              "      <th>13.0</th>\n",
              "      <td>7</td>\n",
              "    </tr>\n",
              "    <tr>\n",
              "      <th>14.0</th>\n",
              "      <td>6</td>\n",
              "    </tr>\n",
              "    <tr>\n",
              "      <th>16.0</th>\n",
              "      <td>6</td>\n",
              "    </tr>\n",
              "    <tr>\n",
              "      <th>11.0</th>\n",
              "      <td>5</td>\n",
              "    </tr>\n",
              "    <tr>\n",
              "      <th>10.0</th>\n",
              "      <td>4</td>\n",
              "    </tr>\n",
              "    <tr>\n",
              "      <th>8.0</th>\n",
              "      <td>1</td>\n",
              "    </tr>\n",
              "    <tr>\n",
              "      <th>9.0</th>\n",
              "      <td>1</td>\n",
              "    </tr>\n",
              "    <tr>\n",
              "      <th>23.0</th>\n",
              "      <td>1</td>\n",
              "    </tr>\n",
              "    <tr>\n",
              "      <th>19.0</th>\n",
              "      <td>1</td>\n",
              "    </tr>\n",
              "    <tr>\n",
              "      <th>1.0</th>\n",
              "      <td>1</td>\n",
              "    </tr>\n",
              "    <tr>\n",
              "      <th>20.0</th>\n",
              "      <td>1</td>\n",
              "    </tr>\n",
              "  </tbody>\n",
              "</table>\n",
              "</div><br><label><b>dtype:</b> int64</label>"
            ]
          },
          "metadata": {},
          "execution_count": 43
        }
      ]
    },
    {
      "cell_type": "code",
      "source": [
        "# removing the data saying started programming at the age 1\n",
        "df_raw = df_raw[df_raw[\"At what age did you start programming?\"] > 2]"
      ],
      "metadata": {
        "id": "nGhC1bucwr9S"
      },
      "execution_count": 44,
      "outputs": []
    },
    {
      "cell_type": "code",
      "source": [
        "df_raw[\"Have you at any point attended private school?\"].value_counts()"
      ],
      "metadata": {
        "id": "umZ_a4R3xJJq",
        "outputId": "d6196ba1-1d7f-44f3-d90d-c416411630ea",
        "colab": {
          "base_uri": "https://localhost:8080/",
          "height": 178
        }
      },
      "execution_count": 45,
      "outputs": [
        {
          "output_type": "execute_result",
          "data": {
            "text/plain": [
              "Have you at any point attended private school?\n",
              "No     51\n",
              "Yes    14\n",
              "Name: count, dtype: int64"
            ],
            "text/html": [
              "<div>\n",
              "<style scoped>\n",
              "    .dataframe tbody tr th:only-of-type {\n",
              "        vertical-align: middle;\n",
              "    }\n",
              "\n",
              "    .dataframe tbody tr th {\n",
              "        vertical-align: top;\n",
              "    }\n",
              "\n",
              "    .dataframe thead th {\n",
              "        text-align: right;\n",
              "    }\n",
              "</style>\n",
              "<table border=\"1\" class=\"dataframe\">\n",
              "  <thead>\n",
              "    <tr style=\"text-align: right;\">\n",
              "      <th></th>\n",
              "      <th>count</th>\n",
              "    </tr>\n",
              "    <tr>\n",
              "      <th>Have you at any point attended private school?</th>\n",
              "      <th></th>\n",
              "    </tr>\n",
              "  </thead>\n",
              "  <tbody>\n",
              "    <tr>\n",
              "      <th>No</th>\n",
              "      <td>51</td>\n",
              "    </tr>\n",
              "    <tr>\n",
              "      <th>Yes</th>\n",
              "      <td>14</td>\n",
              "    </tr>\n",
              "  </tbody>\n",
              "</table>\n",
              "</div><br><label><b>dtype:</b> int64</label>"
            ]
          },
          "metadata": {},
          "execution_count": 45
        }
      ]
    },
    {
      "cell_type": "code",
      "source": [
        "df_raw.columns"
      ],
      "metadata": {
        "id": "haAsRN41ztz6",
        "outputId": "bece23f8-04ee-4de3-bdde-74121e473427",
        "colab": {
          "base_uri": "https://localhost:8080/"
        }
      },
      "execution_count": 46,
      "outputs": [
        {
          "output_type": "execute_result",
          "data": {
            "text/plain": [
              "Index(['Timestamp', 'What state are you from?', 'Major (Check all that apply)',\n",
              "       'At what age did you start programming?',\n",
              "       'Have you at any point attended private school?',\n",
              "       'Do you have a scholarship?', 'Do you have a parent in tech?',\n",
              "       'Do you study with friends?', 'Do you take notes in classes?',\n",
              "       'How many credits did you take last semester?',\n",
              "       'What is your average screentime?',\n",
              "       'What is your average daily time on Tik Tok or Tik Tok equivalents?',\n",
              "       'How many hours of sleep do you get a night?',\n",
              "       'What was your GPA LAST SEMESTER?',\n",
              "       'What was your GPA THE SEMESTER BEFORE THAT?'],\n",
              "      dtype='object')"
            ]
          },
          "metadata": {},
          "execution_count": 46
        }
      ]
    },
    {
      "cell_type": "code",
      "source": [
        "from sklearn.preprocessing import LabelEncoder\n",
        "# creating a encoded dataframe\n",
        "\n",
        "categorical_columns = ['What state are you from?','Major (Check all that apply)','Have you at any point attended private school?','Do you have a scholarship?',\n",
        "                                             'Do you have a parent in tech?', 'Do you study with friends?', 'Do you take notes in classes?']\n",
        "\n",
        "df_raw_encoded = df_raw.copy()\n",
        "\n",
        "for i in categorical_columns:\n",
        "  new_column_name = i + \"_encoded\"\n",
        "  df_raw_encoded[new_column_name] = LabelEncoder().fit_transform(df_raw_encoded[i])\n",
        "\n",
        "df_raw_encoded.drop(categorical_columns, axis = 1,  inplace=True)\n"
      ],
      "metadata": {
        "id": "tJDCJVq8xNG5"
      },
      "execution_count": 47,
      "outputs": []
    },
    {
      "cell_type": "code",
      "source": [
        "# Dropping Timestamp column\n",
        "df_raw_encoded.drop(\"Timestamp\", axis = 1,  inplace=True)"
      ],
      "metadata": {
        "id": "8L8DPLW-3BhC"
      },
      "execution_count": 50,
      "outputs": []
    },
    {
      "cell_type": "markdown",
      "source": [],
      "metadata": {
        "id": "UuFdI45W3BIi"
      }
    },
    {
      "cell_type": "code",
      "source": [
        "df_raw_encoded"
      ],
      "metadata": {
        "id": "A58LP0PA0NMi",
        "outputId": "999cfee8-dc52-49dc-9238-525f10446e52",
        "colab": {
          "base_uri": "https://localhost:8080/",
          "height": 545
        }
      },
      "execution_count": 51,
      "outputs": [
        {
          "output_type": "execute_result",
          "data": {
            "text/plain": [
              "    At what age did you start programming?  \\\n",
              "0                                     14.0   \n",
              "1                                      8.0   \n",
              "2                                     14.0   \n",
              "3                                     14.0   \n",
              "4                                     11.0   \n",
              "..                                     ...   \n",
              "68                                    16.0   \n",
              "69                                    15.0   \n",
              "70                                    17.0   \n",
              "71                                    15.0   \n",
              "72                                    13.0   \n",
              "\n",
              "    How many credits did you take last semester?  \\\n",
              "0                                             16   \n",
              "1                                             17   \n",
              "2                                             17   \n",
              "3                                             18   \n",
              "4                                             15   \n",
              "..                                           ...   \n",
              "68                                            15   \n",
              "69                                            17   \n",
              "70                                            16   \n",
              "71                                            17   \n",
              "72                                            15   \n",
              "\n",
              "    What is your average screentime?  \\\n",
              "0                                5.0   \n",
              "1                                3.5   \n",
              "2                                6.5   \n",
              "3                                6.0   \n",
              "4                                5.0   \n",
              "..                               ...   \n",
              "68                               5.5   \n",
              "69                              10.0   \n",
              "70                               5.0   \n",
              "71                               9.0   \n",
              "72                               4.0   \n",
              "\n",
              "    What is your average daily time on Tik Tok or Tik Tok equivalents?  \\\n",
              "0                                                 2.0                    \n",
              "1                                                 1.0                    \n",
              "2                                                 2.0                    \n",
              "3                                                 2.0                    \n",
              "4                                                 1.0                    \n",
              "..                                                ...                    \n",
              "68                                                1.0                    \n",
              "69                                                1.0                    \n",
              "70                                                2.0                    \n",
              "71                                                3.0                    \n",
              "72                                                1.0                    \n",
              "\n",
              "    How many hours of sleep do you get a night?  \\\n",
              "0                                           7.0   \n",
              "1                                           7.0   \n",
              "2                                           8.0   \n",
              "3                                           8.0   \n",
              "4                                           8.0   \n",
              "..                                          ...   \n",
              "68                                          8.0   \n",
              "69                                          8.0   \n",
              "70                                          5.0   \n",
              "71                                          6.0   \n",
              "72                                          8.0   \n",
              "\n",
              "    What was your GPA LAST SEMESTER?  \\\n",
              "0                              2.780   \n",
              "1                              3.900   \n",
              "2                              3.900   \n",
              "3                              4.000   \n",
              "4                              4.000   \n",
              "..                               ...   \n",
              "68                             3.557   \n",
              "69                             4.000   \n",
              "70                             3.500   \n",
              "71                             3.894   \n",
              "72                             3.900   \n",
              "\n",
              "    What was your GPA THE SEMESTER BEFORE THAT?  \\\n",
              "0                                         2.600   \n",
              "1                                         3.700   \n",
              "2                                         4.000   \n",
              "3                                         4.000   \n",
              "4                                         4.000   \n",
              "..                                          ...   \n",
              "68                                        3.504   \n",
              "69                                        4.000   \n",
              "70                                        3.700   \n",
              "71                                        3.940   \n",
              "72                                        3.900   \n",
              "\n",
              "    What state are you from?_encoded  Major (Check all that apply)_encoded  \\\n",
              "0                                  4                                     0   \n",
              "1                                  9                                     0   \n",
              "2                                  3                                     0   \n",
              "3                                  9                                     0   \n",
              "4                                  0                                     3   \n",
              "..                               ...                                   ...   \n",
              "68                                 3                                     0   \n",
              "69                                 3                                     0   \n",
              "70                                 3                                     0   \n",
              "71                                 4                                     0   \n",
              "72                                 8                                     0   \n",
              "\n",
              "    Have you at any point attended private school?_encoded  \\\n",
              "0                                                   0        \n",
              "1                                                   0        \n",
              "2                                                   0        \n",
              "3                                                   0        \n",
              "4                                                   0        \n",
              "..                                                ...        \n",
              "68                                                  0        \n",
              "69                                                  0        \n",
              "70                                                  0        \n",
              "71                                                  0        \n",
              "72                                                  1        \n",
              "\n",
              "    Do you have a scholarship?_encoded  Do you have a parent in tech?_encoded  \\\n",
              "0                                    2                                      0   \n",
              "1                                    1                                      2   \n",
              "2                                    1                                      0   \n",
              "3                                    1                                      1   \n",
              "4                                    1                                      2   \n",
              "..                                 ...                                    ...   \n",
              "68                                   2                                      1   \n",
              "69                                   0                                      0   \n",
              "70                                   2                                      0   \n",
              "71                                   2                                      1   \n",
              "72                                   1                                      0   \n",
              "\n",
              "    Do you study with friends?_encoded  Do you take notes in classes?_encoded  \n",
              "0                                    2                                      2  \n",
              "1                                    2                                      3  \n",
              "2                                    0                                      3  \n",
              "3                                    0                                      3  \n",
              "4                                    0                                      1  \n",
              "..                                 ...                                    ...  \n",
              "68                                   2                                      3  \n",
              "69                                   1                                      3  \n",
              "70                                   1                                      3  \n",
              "71                                   0                                      3  \n",
              "72                                   1                                      0  \n",
              "\n",
              "[65 rows x 14 columns]"
            ],
            "text/html": [
              "\n",
              "  <div id=\"df-f07222af-460b-49c6-ae60-71664d18873f\" class=\"colab-df-container\">\n",
              "    <div>\n",
              "<style scoped>\n",
              "    .dataframe tbody tr th:only-of-type {\n",
              "        vertical-align: middle;\n",
              "    }\n",
              "\n",
              "    .dataframe tbody tr th {\n",
              "        vertical-align: top;\n",
              "    }\n",
              "\n",
              "    .dataframe thead th {\n",
              "        text-align: right;\n",
              "    }\n",
              "</style>\n",
              "<table border=\"1\" class=\"dataframe\">\n",
              "  <thead>\n",
              "    <tr style=\"text-align: right;\">\n",
              "      <th></th>\n",
              "      <th>At what age did you start programming?</th>\n",
              "      <th>How many credits did you take last semester?</th>\n",
              "      <th>What is your average screentime?</th>\n",
              "      <th>What is your average daily time on Tik Tok or Tik Tok equivalents?</th>\n",
              "      <th>How many hours of sleep do you get a night?</th>\n",
              "      <th>What was your GPA LAST SEMESTER?</th>\n",
              "      <th>What was your GPA THE SEMESTER BEFORE THAT?</th>\n",
              "      <th>What state are you from?_encoded</th>\n",
              "      <th>Major (Check all that apply)_encoded</th>\n",
              "      <th>Have you at any point attended private school?_encoded</th>\n",
              "      <th>Do you have a scholarship?_encoded</th>\n",
              "      <th>Do you have a parent in tech?_encoded</th>\n",
              "      <th>Do you study with friends?_encoded</th>\n",
              "      <th>Do you take notes in classes?_encoded</th>\n",
              "    </tr>\n",
              "  </thead>\n",
              "  <tbody>\n",
              "    <tr>\n",
              "      <th>0</th>\n",
              "      <td>14.0</td>\n",
              "      <td>16</td>\n",
              "      <td>5.0</td>\n",
              "      <td>2.0</td>\n",
              "      <td>7.0</td>\n",
              "      <td>2.780</td>\n",
              "      <td>2.600</td>\n",
              "      <td>4</td>\n",
              "      <td>0</td>\n",
              "      <td>0</td>\n",
              "      <td>2</td>\n",
              "      <td>0</td>\n",
              "      <td>2</td>\n",
              "      <td>2</td>\n",
              "    </tr>\n",
              "    <tr>\n",
              "      <th>1</th>\n",
              "      <td>8.0</td>\n",
              "      <td>17</td>\n",
              "      <td>3.5</td>\n",
              "      <td>1.0</td>\n",
              "      <td>7.0</td>\n",
              "      <td>3.900</td>\n",
              "      <td>3.700</td>\n",
              "      <td>9</td>\n",
              "      <td>0</td>\n",
              "      <td>0</td>\n",
              "      <td>1</td>\n",
              "      <td>2</td>\n",
              "      <td>2</td>\n",
              "      <td>3</td>\n",
              "    </tr>\n",
              "    <tr>\n",
              "      <th>2</th>\n",
              "      <td>14.0</td>\n",
              "      <td>17</td>\n",
              "      <td>6.5</td>\n",
              "      <td>2.0</td>\n",
              "      <td>8.0</td>\n",
              "      <td>3.900</td>\n",
              "      <td>4.000</td>\n",
              "      <td>3</td>\n",
              "      <td>0</td>\n",
              "      <td>0</td>\n",
              "      <td>1</td>\n",
              "      <td>0</td>\n",
              "      <td>0</td>\n",
              "      <td>3</td>\n",
              "    </tr>\n",
              "    <tr>\n",
              "      <th>3</th>\n",
              "      <td>14.0</td>\n",
              "      <td>18</td>\n",
              "      <td>6.0</td>\n",
              "      <td>2.0</td>\n",
              "      <td>8.0</td>\n",
              "      <td>4.000</td>\n",
              "      <td>4.000</td>\n",
              "      <td>9</td>\n",
              "      <td>0</td>\n",
              "      <td>0</td>\n",
              "      <td>1</td>\n",
              "      <td>1</td>\n",
              "      <td>0</td>\n",
              "      <td>3</td>\n",
              "    </tr>\n",
              "    <tr>\n",
              "      <th>4</th>\n",
              "      <td>11.0</td>\n",
              "      <td>15</td>\n",
              "      <td>5.0</td>\n",
              "      <td>1.0</td>\n",
              "      <td>8.0</td>\n",
              "      <td>4.000</td>\n",
              "      <td>4.000</td>\n",
              "      <td>0</td>\n",
              "      <td>3</td>\n",
              "      <td>0</td>\n",
              "      <td>1</td>\n",
              "      <td>2</td>\n",
              "      <td>0</td>\n",
              "      <td>1</td>\n",
              "    </tr>\n",
              "    <tr>\n",
              "      <th>...</th>\n",
              "      <td>...</td>\n",
              "      <td>...</td>\n",
              "      <td>...</td>\n",
              "      <td>...</td>\n",
              "      <td>...</td>\n",
              "      <td>...</td>\n",
              "      <td>...</td>\n",
              "      <td>...</td>\n",
              "      <td>...</td>\n",
              "      <td>...</td>\n",
              "      <td>...</td>\n",
              "      <td>...</td>\n",
              "      <td>...</td>\n",
              "      <td>...</td>\n",
              "    </tr>\n",
              "    <tr>\n",
              "      <th>68</th>\n",
              "      <td>16.0</td>\n",
              "      <td>15</td>\n",
              "      <td>5.5</td>\n",
              "      <td>1.0</td>\n",
              "      <td>8.0</td>\n",
              "      <td>3.557</td>\n",
              "      <td>3.504</td>\n",
              "      <td>3</td>\n",
              "      <td>0</td>\n",
              "      <td>0</td>\n",
              "      <td>2</td>\n",
              "      <td>1</td>\n",
              "      <td>2</td>\n",
              "      <td>3</td>\n",
              "    </tr>\n",
              "    <tr>\n",
              "      <th>69</th>\n",
              "      <td>15.0</td>\n",
              "      <td>17</td>\n",
              "      <td>10.0</td>\n",
              "      <td>1.0</td>\n",
              "      <td>8.0</td>\n",
              "      <td>4.000</td>\n",
              "      <td>4.000</td>\n",
              "      <td>3</td>\n",
              "      <td>0</td>\n",
              "      <td>0</td>\n",
              "      <td>0</td>\n",
              "      <td>0</td>\n",
              "      <td>1</td>\n",
              "      <td>3</td>\n",
              "    </tr>\n",
              "    <tr>\n",
              "      <th>70</th>\n",
              "      <td>17.0</td>\n",
              "      <td>16</td>\n",
              "      <td>5.0</td>\n",
              "      <td>2.0</td>\n",
              "      <td>5.0</td>\n",
              "      <td>3.500</td>\n",
              "      <td>3.700</td>\n",
              "      <td>3</td>\n",
              "      <td>0</td>\n",
              "      <td>0</td>\n",
              "      <td>2</td>\n",
              "      <td>0</td>\n",
              "      <td>1</td>\n",
              "      <td>3</td>\n",
              "    </tr>\n",
              "    <tr>\n",
              "      <th>71</th>\n",
              "      <td>15.0</td>\n",
              "      <td>17</td>\n",
              "      <td>9.0</td>\n",
              "      <td>3.0</td>\n",
              "      <td>6.0</td>\n",
              "      <td>3.894</td>\n",
              "      <td>3.940</td>\n",
              "      <td>4</td>\n",
              "      <td>0</td>\n",
              "      <td>0</td>\n",
              "      <td>2</td>\n",
              "      <td>1</td>\n",
              "      <td>0</td>\n",
              "      <td>3</td>\n",
              "    </tr>\n",
              "    <tr>\n",
              "      <th>72</th>\n",
              "      <td>13.0</td>\n",
              "      <td>15</td>\n",
              "      <td>4.0</td>\n",
              "      <td>1.0</td>\n",
              "      <td>8.0</td>\n",
              "      <td>3.900</td>\n",
              "      <td>3.900</td>\n",
              "      <td>8</td>\n",
              "      <td>0</td>\n",
              "      <td>1</td>\n",
              "      <td>1</td>\n",
              "      <td>0</td>\n",
              "      <td>1</td>\n",
              "      <td>0</td>\n",
              "    </tr>\n",
              "  </tbody>\n",
              "</table>\n",
              "<p>65 rows × 14 columns</p>\n",
              "</div>\n",
              "    <div class=\"colab-df-buttons\">\n",
              "\n",
              "  <div class=\"colab-df-container\">\n",
              "    <button class=\"colab-df-convert\" onclick=\"convertToInteractive('df-f07222af-460b-49c6-ae60-71664d18873f')\"\n",
              "            title=\"Convert this dataframe to an interactive table.\"\n",
              "            style=\"display:none;\">\n",
              "\n",
              "  <svg xmlns=\"http://www.w3.org/2000/svg\" height=\"24px\" viewBox=\"0 -960 960 960\">\n",
              "    <path d=\"M120-120v-720h720v720H120Zm60-500h600v-160H180v160Zm220 220h160v-160H400v160Zm0 220h160v-160H400v160ZM180-400h160v-160H180v160Zm440 0h160v-160H620v160ZM180-180h160v-160H180v160Zm440 0h160v-160H620v160Z\"/>\n",
              "  </svg>\n",
              "    </button>\n",
              "\n",
              "  <style>\n",
              "    .colab-df-container {\n",
              "      display:flex;\n",
              "      gap: 12px;\n",
              "    }\n",
              "\n",
              "    .colab-df-convert {\n",
              "      background-color: #E8F0FE;\n",
              "      border: none;\n",
              "      border-radius: 50%;\n",
              "      cursor: pointer;\n",
              "      display: none;\n",
              "      fill: #1967D2;\n",
              "      height: 32px;\n",
              "      padding: 0 0 0 0;\n",
              "      width: 32px;\n",
              "    }\n",
              "\n",
              "    .colab-df-convert:hover {\n",
              "      background-color: #E2EBFA;\n",
              "      box-shadow: 0px 1px 2px rgba(60, 64, 67, 0.3), 0px 1px 3px 1px rgba(60, 64, 67, 0.15);\n",
              "      fill: #174EA6;\n",
              "    }\n",
              "\n",
              "    .colab-df-buttons div {\n",
              "      margin-bottom: 4px;\n",
              "    }\n",
              "\n",
              "    [theme=dark] .colab-df-convert {\n",
              "      background-color: #3B4455;\n",
              "      fill: #D2E3FC;\n",
              "    }\n",
              "\n",
              "    [theme=dark] .colab-df-convert:hover {\n",
              "      background-color: #434B5C;\n",
              "      box-shadow: 0px 1px 3px 1px rgba(0, 0, 0, 0.15);\n",
              "      filter: drop-shadow(0px 1px 2px rgba(0, 0, 0, 0.3));\n",
              "      fill: #FFFFFF;\n",
              "    }\n",
              "  </style>\n",
              "\n",
              "    <script>\n",
              "      const buttonEl =\n",
              "        document.querySelector('#df-f07222af-460b-49c6-ae60-71664d18873f button.colab-df-convert');\n",
              "      buttonEl.style.display =\n",
              "        google.colab.kernel.accessAllowed ? 'block' : 'none';\n",
              "\n",
              "      async function convertToInteractive(key) {\n",
              "        const element = document.querySelector('#df-f07222af-460b-49c6-ae60-71664d18873f');\n",
              "        const dataTable =\n",
              "          await google.colab.kernel.invokeFunction('convertToInteractive',\n",
              "                                                    [key], {});\n",
              "        if (!dataTable) return;\n",
              "\n",
              "        const docLinkHtml = 'Like what you see? Visit the ' +\n",
              "          '<a target=\"_blank\" href=https://colab.research.google.com/notebooks/data_table.ipynb>data table notebook</a>'\n",
              "          + ' to learn more about interactive tables.';\n",
              "        element.innerHTML = '';\n",
              "        dataTable['output_type'] = 'display_data';\n",
              "        await google.colab.output.renderOutput(dataTable, element);\n",
              "        const docLink = document.createElement('div');\n",
              "        docLink.innerHTML = docLinkHtml;\n",
              "        element.appendChild(docLink);\n",
              "      }\n",
              "    </script>\n",
              "  </div>\n",
              "\n",
              "\n",
              "<div id=\"df-73774a10-2596-4581-b058-2304c08cd9ff\">\n",
              "  <button class=\"colab-df-quickchart\" onclick=\"quickchart('df-73774a10-2596-4581-b058-2304c08cd9ff')\"\n",
              "            title=\"Suggest charts\"\n",
              "            style=\"display:none;\">\n",
              "\n",
              "<svg xmlns=\"http://www.w3.org/2000/svg\" height=\"24px\"viewBox=\"0 0 24 24\"\n",
              "     width=\"24px\">\n",
              "    <g>\n",
              "        <path d=\"M19 3H5c-1.1 0-2 .9-2 2v14c0 1.1.9 2 2 2h14c1.1 0 2-.9 2-2V5c0-1.1-.9-2-2-2zM9 17H7v-7h2v7zm4 0h-2V7h2v10zm4 0h-2v-4h2v4z\"/>\n",
              "    </g>\n",
              "</svg>\n",
              "  </button>\n",
              "\n",
              "<style>\n",
              "  .colab-df-quickchart {\n",
              "      --bg-color: #E8F0FE;\n",
              "      --fill-color: #1967D2;\n",
              "      --hover-bg-color: #E2EBFA;\n",
              "      --hover-fill-color: #174EA6;\n",
              "      --disabled-fill-color: #AAA;\n",
              "      --disabled-bg-color: #DDD;\n",
              "  }\n",
              "\n",
              "  [theme=dark] .colab-df-quickchart {\n",
              "      --bg-color: #3B4455;\n",
              "      --fill-color: #D2E3FC;\n",
              "      --hover-bg-color: #434B5C;\n",
              "      --hover-fill-color: #FFFFFF;\n",
              "      --disabled-bg-color: #3B4455;\n",
              "      --disabled-fill-color: #666;\n",
              "  }\n",
              "\n",
              "  .colab-df-quickchart {\n",
              "    background-color: var(--bg-color);\n",
              "    border: none;\n",
              "    border-radius: 50%;\n",
              "    cursor: pointer;\n",
              "    display: none;\n",
              "    fill: var(--fill-color);\n",
              "    height: 32px;\n",
              "    padding: 0;\n",
              "    width: 32px;\n",
              "  }\n",
              "\n",
              "  .colab-df-quickchart:hover {\n",
              "    background-color: var(--hover-bg-color);\n",
              "    box-shadow: 0 1px 2px rgba(60, 64, 67, 0.3), 0 1px 3px 1px rgba(60, 64, 67, 0.15);\n",
              "    fill: var(--button-hover-fill-color);\n",
              "  }\n",
              "\n",
              "  .colab-df-quickchart-complete:disabled,\n",
              "  .colab-df-quickchart-complete:disabled:hover {\n",
              "    background-color: var(--disabled-bg-color);\n",
              "    fill: var(--disabled-fill-color);\n",
              "    box-shadow: none;\n",
              "  }\n",
              "\n",
              "  .colab-df-spinner {\n",
              "    border: 2px solid var(--fill-color);\n",
              "    border-color: transparent;\n",
              "    border-bottom-color: var(--fill-color);\n",
              "    animation:\n",
              "      spin 1s steps(1) infinite;\n",
              "  }\n",
              "\n",
              "  @keyframes spin {\n",
              "    0% {\n",
              "      border-color: transparent;\n",
              "      border-bottom-color: var(--fill-color);\n",
              "      border-left-color: var(--fill-color);\n",
              "    }\n",
              "    20% {\n",
              "      border-color: transparent;\n",
              "      border-left-color: var(--fill-color);\n",
              "      border-top-color: var(--fill-color);\n",
              "    }\n",
              "    30% {\n",
              "      border-color: transparent;\n",
              "      border-left-color: var(--fill-color);\n",
              "      border-top-color: var(--fill-color);\n",
              "      border-right-color: var(--fill-color);\n",
              "    }\n",
              "    40% {\n",
              "      border-color: transparent;\n",
              "      border-right-color: var(--fill-color);\n",
              "      border-top-color: var(--fill-color);\n",
              "    }\n",
              "    60% {\n",
              "      border-color: transparent;\n",
              "      border-right-color: var(--fill-color);\n",
              "    }\n",
              "    80% {\n",
              "      border-color: transparent;\n",
              "      border-right-color: var(--fill-color);\n",
              "      border-bottom-color: var(--fill-color);\n",
              "    }\n",
              "    90% {\n",
              "      border-color: transparent;\n",
              "      border-bottom-color: var(--fill-color);\n",
              "    }\n",
              "  }\n",
              "</style>\n",
              "\n",
              "  <script>\n",
              "    async function quickchart(key) {\n",
              "      const quickchartButtonEl =\n",
              "        document.querySelector('#' + key + ' button');\n",
              "      quickchartButtonEl.disabled = true;  // To prevent multiple clicks.\n",
              "      quickchartButtonEl.classList.add('colab-df-spinner');\n",
              "      try {\n",
              "        const charts = await google.colab.kernel.invokeFunction(\n",
              "            'suggestCharts', [key], {});\n",
              "      } catch (error) {\n",
              "        console.error('Error during call to suggestCharts:', error);\n",
              "      }\n",
              "      quickchartButtonEl.classList.remove('colab-df-spinner');\n",
              "      quickchartButtonEl.classList.add('colab-df-quickchart-complete');\n",
              "    }\n",
              "    (() => {\n",
              "      let quickchartButtonEl =\n",
              "        document.querySelector('#df-73774a10-2596-4581-b058-2304c08cd9ff button');\n",
              "      quickchartButtonEl.style.display =\n",
              "        google.colab.kernel.accessAllowed ? 'block' : 'none';\n",
              "    })();\n",
              "  </script>\n",
              "</div>\n",
              "\n",
              "  <div id=\"id_01b0a607-b65c-4dfa-b767-f3174f1a4bbc\">\n",
              "    <style>\n",
              "      .colab-df-generate {\n",
              "        background-color: #E8F0FE;\n",
              "        border: none;\n",
              "        border-radius: 50%;\n",
              "        cursor: pointer;\n",
              "        display: none;\n",
              "        fill: #1967D2;\n",
              "        height: 32px;\n",
              "        padding: 0 0 0 0;\n",
              "        width: 32px;\n",
              "      }\n",
              "\n",
              "      .colab-df-generate:hover {\n",
              "        background-color: #E2EBFA;\n",
              "        box-shadow: 0px 1px 2px rgba(60, 64, 67, 0.3), 0px 1px 3px 1px rgba(60, 64, 67, 0.15);\n",
              "        fill: #174EA6;\n",
              "      }\n",
              "\n",
              "      [theme=dark] .colab-df-generate {\n",
              "        background-color: #3B4455;\n",
              "        fill: #D2E3FC;\n",
              "      }\n",
              "\n",
              "      [theme=dark] .colab-df-generate:hover {\n",
              "        background-color: #434B5C;\n",
              "        box-shadow: 0px 1px 3px 1px rgba(0, 0, 0, 0.15);\n",
              "        filter: drop-shadow(0px 1px 2px rgba(0, 0, 0, 0.3));\n",
              "        fill: #FFFFFF;\n",
              "      }\n",
              "    </style>\n",
              "    <button class=\"colab-df-generate\" onclick=\"generateWithVariable('df_raw_encoded')\"\n",
              "            title=\"Generate code using this dataframe.\"\n",
              "            style=\"display:none;\">\n",
              "\n",
              "  <svg xmlns=\"http://www.w3.org/2000/svg\" height=\"24px\"viewBox=\"0 0 24 24\"\n",
              "       width=\"24px\">\n",
              "    <path d=\"M7,19H8.4L18.45,9,17,7.55,7,17.6ZM5,21V16.75L18.45,3.32a2,2,0,0,1,2.83,0l1.4,1.43a1.91,1.91,0,0,1,.58,1.4,1.91,1.91,0,0,1-.58,1.4L9.25,21ZM18.45,9,17,7.55Zm-12,3A5.31,5.31,0,0,0,4.9,8.1,5.31,5.31,0,0,0,1,6.5,5.31,5.31,0,0,0,4.9,4.9,5.31,5.31,0,0,0,6.5,1,5.31,5.31,0,0,0,8.1,4.9,5.31,5.31,0,0,0,12,6.5,5.46,5.46,0,0,0,6.5,12Z\"/>\n",
              "  </svg>\n",
              "    </button>\n",
              "    <script>\n",
              "      (() => {\n",
              "      const buttonEl =\n",
              "        document.querySelector('#id_01b0a607-b65c-4dfa-b767-f3174f1a4bbc button.colab-df-generate');\n",
              "      buttonEl.style.display =\n",
              "        google.colab.kernel.accessAllowed ? 'block' : 'none';\n",
              "\n",
              "      buttonEl.onclick = () => {\n",
              "        google.colab.notebook.generateWithVariable('df_raw_encoded');\n",
              "      }\n",
              "      })();\n",
              "    </script>\n",
              "  </div>\n",
              "\n",
              "    </div>\n",
              "  </div>\n"
            ],
            "application/vnd.google.colaboratory.intrinsic+json": {
              "type": "dataframe",
              "variable_name": "df_raw_encoded",
              "summary": "{\n  \"name\": \"df_raw_encoded\",\n  \"rows\": 65,\n  \"fields\": [\n    {\n      \"column\": \"At what age did you start programming?\",\n      \"properties\": {\n        \"dtype\": \"number\",\n        \"std\": 2.978528934790565,\n        \"min\": 8.0,\n        \"max\": 23.0,\n        \"num_unique_values\": 14,\n        \"samples\": [\n          13.0,\n          16.0,\n          14.0\n        ],\n        \"semantic_type\": \"\",\n        \"description\": \"\"\n      }\n    },\n    {\n      \"column\": \"How many credits did you take last semester?\",\n      \"properties\": {\n        \"dtype\": \"number\",\n        \"std\": 2,\n        \"min\": 12,\n        \"max\": 20,\n        \"num_unique_values\": 9,\n        \"samples\": [\n          13,\n          17,\n          19\n        ],\n        \"semantic_type\": \"\",\n        \"description\": \"\"\n      }\n    },\n    {\n      \"column\": \"What is your average screentime?\",\n      \"properties\": {\n        \"dtype\": \"number\",\n        \"std\": 41.977413684210994,\n        \"min\": 2.7,\n        \"max\": 323.0,\n        \"num_unique_values\": 21,\n        \"samples\": [\n          5.0,\n          16.0,\n          323.0\n        ],\n        \"semantic_type\": \"\",\n        \"description\": \"\"\n      }\n    },\n    {\n      \"column\": \"What is your average daily time on Tik Tok or Tik Tok equivalents?\",\n      \"properties\": {\n        \"dtype\": \"number\",\n        \"std\": 6.450829868423608,\n        \"min\": 0.001,\n        \"max\": 34.0,\n        \"num_unique_values\": 17,\n        \"samples\": [\n          2.0,\n          1.0,\n          0.001\n        ],\n        \"semantic_type\": \"\",\n        \"description\": \"\"\n      }\n    },\n    {\n      \"column\": \"How many hours of sleep do you get a night?\",\n      \"properties\": {\n        \"dtype\": \"number\",\n        \"std\": 0.9932464253841848,\n        \"min\": 5.0,\n        \"max\": 10.0,\n        \"num_unique_values\": 9,\n        \"samples\": [\n          5.5,\n          8.0,\n          9.0\n        ],\n        \"semantic_type\": \"\",\n        \"description\": \"\"\n      }\n    },\n    {\n      \"column\": \"What was your GPA LAST SEMESTER?\",\n      \"properties\": {\n        \"dtype\": \"number\",\n        \"std\": 0.33437194498963857,\n        \"min\": 2.78,\n        \"max\": 4.0,\n        \"num_unique_values\": 39,\n        \"samples\": [\n          3.0,\n          3.28,\n          3.8\n        ],\n        \"semantic_type\": \"\",\n        \"description\": \"\"\n      }\n    },\n    {\n      \"column\": \"What was your GPA THE SEMESTER BEFORE THAT?\",\n      \"properties\": {\n        \"dtype\": \"number\",\n        \"std\": 0.347809703579193,\n        \"min\": 2.6,\n        \"max\": 4.0,\n        \"num_unique_values\": 32,\n        \"samples\": [\n          3.535,\n          3.96,\n          3.17\n        ],\n        \"semantic_type\": \"\",\n        \"description\": \"\"\n      }\n    },\n    {\n      \"column\": \"What state are you from?_encoded\",\n      \"properties\": {\n        \"dtype\": \"number\",\n        \"std\": 2,\n        \"min\": 0,\n        \"max\": 9,\n        \"num_unique_values\": 10,\n        \"samples\": [\n          1,\n          9,\n          6\n        ],\n        \"semantic_type\": \"\",\n        \"description\": \"\"\n      }\n    },\n    {\n      \"column\": \"Major (Check all that apply)_encoded\",\n      \"properties\": {\n        \"dtype\": \"number\",\n        \"std\": 1,\n        \"min\": 0,\n        \"max\": 4,\n        \"num_unique_values\": 5,\n        \"samples\": [\n          3,\n          1,\n          4\n        ],\n        \"semantic_type\": \"\",\n        \"description\": \"\"\n      }\n    },\n    {\n      \"column\": \"Have you at any point attended private school?_encoded\",\n      \"properties\": {\n        \"dtype\": \"number\",\n        \"std\": 0,\n        \"min\": 0,\n        \"max\": 1,\n        \"num_unique_values\": 2,\n        \"samples\": [\n          1,\n          0\n        ],\n        \"semantic_type\": \"\",\n        \"description\": \"\"\n      }\n    },\n    {\n      \"column\": \"Do you have a scholarship?_encoded\",\n      \"properties\": {\n        \"dtype\": \"number\",\n        \"std\": 0,\n        \"min\": 0,\n        \"max\": 2,\n        \"num_unique_values\": 3,\n        \"samples\": [\n          2,\n          1\n        ],\n        \"semantic_type\": \"\",\n        \"description\": \"\"\n      }\n    },\n    {\n      \"column\": \"Do you have a parent in tech?_encoded\",\n      \"properties\": {\n        \"dtype\": \"number\",\n        \"std\": 0,\n        \"min\": 0,\n        \"max\": 2,\n        \"num_unique_values\": 3,\n        \"samples\": [\n          0,\n          2\n        ],\n        \"semantic_type\": \"\",\n        \"description\": \"\"\n      }\n    },\n    {\n      \"column\": \"Do you study with friends?_encoded\",\n      \"properties\": {\n        \"dtype\": \"number\",\n        \"std\": 0,\n        \"min\": 0,\n        \"max\": 2,\n        \"num_unique_values\": 3,\n        \"samples\": [\n          2,\n          0\n        ],\n        \"semantic_type\": \"\",\n        \"description\": \"\"\n      }\n    },\n    {\n      \"column\": \"Do you take notes in classes?_encoded\",\n      \"properties\": {\n        \"dtype\": \"number\",\n        \"std\": 1,\n        \"min\": 0,\n        \"max\": 3,\n        \"num_unique_values\": 4,\n        \"samples\": [\n          3,\n          0\n        ],\n        \"semantic_type\": \"\",\n        \"description\": \"\"\n      }\n    }\n  ]\n}"
            }
          },
          "metadata": {},
          "execution_count": 51
        }
      ]
    },
    {
      "cell_type": "code",
      "source": [
        "from sklearn.ensemble import RandomForestRegressor\n",
        "# Split data into features and target\n",
        "X = df_raw_encoded[['At what age did you start programming?',\n",
        "       'How many credits did you take last semester?',\n",
        "       'What is your average screentime?',\n",
        "       'What is your average daily time on Tik Tok or Tik Tok equivalents?',\n",
        "       'How many hours of sleep do you get a night?',\n",
        "       'What was your GPA THE SEMESTER BEFORE THAT?',\n",
        "       'What state are you from?_encoded',\n",
        "       'Major (Check all that apply)_encoded',\n",
        "       'Have you at any point attended private school?_encoded',\n",
        "       'Do you have a scholarship?_encoded',\n",
        "       'Do you have a parent in tech?_encoded',\n",
        "       'Do you study with friends?_encoded',\n",
        "       'Do you take notes in classes?_encoded']]\n",
        "\n",
        "y = df_raw_encoded['What was your GPA LAST SEMESTER?']\n",
        "\n",
        "# Train a Random Forest model\n",
        "model = RandomForestRegressor()\n",
        "model.fit(X, y)\n",
        "\n",
        "# Get feature importance\n",
        "importance = model.feature_importances_\n",
        "feature_names = X.columns\n",
        "\n",
        "# Display feature importance\n",
        "for name, score in zip(feature_names, importance):\n",
        "    print(f\"Feature: {name}, Importance: {score}\")"
      ],
      "metadata": {
        "id": "ykf4i5pH3UmS",
        "outputId": "a6bf457e-d8d9-44cb-c090-b4cc0d4a777b",
        "colab": {
          "base_uri": "https://localhost:8080/"
        }
      },
      "execution_count": 57,
      "outputs": [
        {
          "output_type": "stream",
          "name": "stdout",
          "text": [
            "Feature: At what age did you start programming?, Importance: 0.05112397788027152\n",
            "Feature: How many credits did you take last semester?, Importance: 0.05851288873476654\n",
            "Feature: What is your average screentime?, Importance: 0.06633752414535371\n",
            "Feature: What is your average daily time on Tik Tok or Tik Tok equivalents?, Importance: 0.01687398719751978\n",
            "Feature: How many hours of sleep do you get a night?, Importance: 0.01787535400321816\n",
            "Feature: What was your GPA THE SEMESTER BEFORE THAT?, Importance: 0.6972117366894821\n",
            "Feature: What state are you from?_encoded, Importance: 0.02488866686203828\n",
            "Feature: Major (Check all that apply)_encoded, Importance: 0.003321096357857411\n",
            "Feature: Have you at any point attended private school?_encoded, Importance: 0.0073666839788772065\n",
            "Feature: Do you have a scholarship?_encoded, Importance: 0.025934240766468733\n",
            "Feature: Do you have a parent in tech?_encoded, Importance: 0.01269379804388766\n",
            "Feature: Do you study with friends?_encoded, Importance: 0.005816376416684333\n",
            "Feature: Do you take notes in classes?_encoded, Importance: 0.012043668923574627\n"
          ]
        }
      ]
    },
    {
      "cell_type": "code",
      "source": [
        "print(list(df_raw_encoded.columns).remove(\"What was your GPA LAST SEMESTER?\"))"
      ],
      "metadata": {
        "id": "SOPxE9d-3_kR",
        "outputId": "217ca6a2-3579-41ba-f192-bdc565cee5cf",
        "colab": {
          "base_uri": "https://localhost:8080/"
        }
      },
      "execution_count": 56,
      "outputs": [
        {
          "output_type": "stream",
          "name": "stdout",
          "text": [
            "None\n"
          ]
        }
      ]
    },
    {
      "cell_type": "code",
      "source": [
        "list(df_raw_encoded.columns).remove(\"What was your GPA LAST SEMESTER?\")"
      ],
      "metadata": {
        "id": "69heOJBU4EwB"
      },
      "execution_count": 54,
      "outputs": []
    },
    {
      "cell_type": "code",
      "source": [
        "df_raw_encoded.columns"
      ],
      "metadata": {
        "id": "vI_VPnCR4JQB",
        "outputId": "2f9e01a1-1d07-4994-e8fa-7ae6a959541d",
        "colab": {
          "base_uri": "https://localhost:8080/"
        }
      },
      "execution_count": 55,
      "outputs": [
        {
          "output_type": "execute_result",
          "data": {
            "text/plain": [
              "Index(['At what age did you start programming?',\n",
              "       'How many credits did you take last semester?',\n",
              "       'What is your average screentime?',\n",
              "       'What is your average daily time on Tik Tok or Tik Tok equivalents?',\n",
              "       'How many hours of sleep do you get a night?',\n",
              "       'What was your GPA LAST SEMESTER?',\n",
              "       'What was your GPA THE SEMESTER BEFORE THAT?',\n",
              "       'What state are you from?_encoded',\n",
              "       'Major (Check all that apply)_encoded',\n",
              "       'Have you at any point attended private school?_encoded',\n",
              "       'Do you have a scholarship?_encoded',\n",
              "       'Do you have a parent in tech?_encoded',\n",
              "       'Do you study with friends?_encoded',\n",
              "       'Do you take notes in classes?_encoded'],\n",
              "      dtype='object')"
            ]
          },
          "metadata": {},
          "execution_count": 55
        }
      ]
    },
    {
      "cell_type": "code",
      "source": [],
      "metadata": {
        "id": "FJ2znJnx8LRx"
      },
      "execution_count": 60,
      "outputs": []
    },
    {
      "cell_type": "markdown",
      "source": [
        "1. Which was the most predictive factor for GPA? i.e., which factor had the most \"power\" over predicting the GPA?"
      ],
      "metadata": {
        "id": "PKPy8qvbVBDe"
      }
    },
    {
      "cell_type": "markdown",
      "source": [
        "Your answer:"
      ],
      "metadata": {
        "id": "0te8wMswVImy"
      }
    },
    {
      "cell_type": "code",
      "source": [
        "from sklearn.preprocessing import StandardScaler\n",
        "from sklearn.ensemble import RandomForestRegressor\n",
        "# Split data into features and target\n",
        "X = df_raw_encoded[['At what age did you start programming?',\n",
        "       'How many credits did you take last semester?',\n",
        "       'What is your average screentime?',\n",
        "       'What is your average daily time on Tik Tok or Tik Tok equivalents?',\n",
        "       'How many hours of sleep do you get a night?',\n",
        "       'What was your GPA THE SEMESTER BEFORE THAT?',\n",
        "       'What state are you from?_encoded',\n",
        "       'Major (Check all that apply)_encoded',\n",
        "       'Have you at any point attended private school?_encoded',\n",
        "       'Do you have a scholarship?_encoded',\n",
        "       'Do you have a parent in tech?_encoded',\n",
        "       'Do you study with friends?_encoded',\n",
        "       'Do you take notes in classes?_encoded']]\n",
        "\n",
        "y = df_raw_encoded['What was your GPA LAST SEMESTER?']\n",
        "\n",
        "scaler = StandardScaler()\n",
        "X_scaled = scaler.fit_transform(X)\n",
        "\n",
        "# Train a Random Forest model\n",
        "model = RandomForestRegressor()\n",
        "model.fit(X_scaled, y)\n",
        "\n",
        "# Get feature importance\n",
        "importance = model.feature_importances_\n",
        "feature_names = X.columns\n",
        "\n",
        "# Display feature importance\n",
        "for name, score in zip(feature_names, importance):\n",
        "    print(f\"Feature: {name}, Importance: {score}\")"
      ],
      "metadata": {
        "id": "5jvk4uAcVHTb",
        "outputId": "98137174-94a5-4dc3-f136-5c3757e48138",
        "colab": {
          "base_uri": "https://localhost:8080/"
        }
      },
      "execution_count": 59,
      "outputs": [
        {
          "output_type": "stream",
          "name": "stdout",
          "text": [
            "Feature: At what age did you start programming?, Importance: 0.04744486553038896\n",
            "Feature: How many credits did you take last semester?, Importance: 0.05861465069951703\n",
            "Feature: What is your average screentime?, Importance: 0.05637463708737807\n",
            "Feature: What is your average daily time on Tik Tok or Tik Tok equivalents?, Importance: 0.027451827706316743\n",
            "Feature: How many hours of sleep do you get a night?, Importance: 0.014984122126120183\n",
            "Feature: What was your GPA THE SEMESTER BEFORE THAT?, Importance: 0.6959582871765387\n",
            "Feature: What state are you from?_encoded, Importance: 0.02452853512513137\n",
            "Feature: Major (Check all that apply)_encoded, Importance: 0.003216485751686534\n",
            "Feature: Have you at any point attended private school?_encoded, Importance: 0.006968695826319213\n",
            "Feature: Do you have a scholarship?_encoded, Importance: 0.023894036529503206\n",
            "Feature: Do you have a parent in tech?_encoded, Importance: 0.010753425220070733\n",
            "Feature: Do you study with friends?_encoded, Importance: 0.009548425799633541\n",
            "Feature: Do you take notes in classes?_encoded, Importance: 0.02026200542139581\n"
          ]
        }
      ]
    },
    {
      "cell_type": "markdown",
      "source": [],
      "metadata": {
        "id": "wSdwyALj7d1Y"
      }
    },
    {
      "cell_type": "markdown",
      "source": [
        "2. Which factor(s) didn't matter in predicting the GPA?"
      ],
      "metadata": {
        "id": "s4gfMw7XVUOP"
      }
    },
    {
      "cell_type": "markdown",
      "source": [
        "Your answer:"
      ],
      "metadata": {
        "id": "RgYQ_JZ6VUOP"
      }
    },
    {
      "cell_type": "code",
      "source": [],
      "metadata": {
        "id": "Uq66LhOXVVTf"
      },
      "execution_count": null,
      "outputs": []
    },
    {
      "cell_type": "markdown",
      "source": [
        "3. Besides the GPA information, which two questions had the highest correlation?"
      ],
      "metadata": {
        "id": "itfurVmjVUwh"
      }
    },
    {
      "cell_type": "markdown",
      "source": [
        "Your answer:"
      ],
      "metadata": {
        "id": "Hsab2cOJVUwi"
      }
    },
    {
      "cell_type": "code",
      "source": [],
      "metadata": {
        "id": "SgLEm7YeVVrX"
      },
      "execution_count": null,
      "outputs": []
    },
    {
      "cell_type": "markdown",
      "source": [
        "4. Which one had more impact on students' quality of sleep, the amount of screen time or course load?"
      ],
      "metadata": {
        "id": "-BqivuyCVYJ_"
      }
    },
    {
      "cell_type": "markdown",
      "source": [
        "Your answer:"
      ],
      "metadata": {
        "id": "HghwQDbCVYKA"
      }
    },
    {
      "cell_type": "code",
      "source": [],
      "metadata": {
        "id": "wS4hi_FPVZVJ"
      },
      "execution_count": null,
      "outputs": []
    },
    {
      "cell_type": "markdown",
      "source": [
        "5. Does having a parent (or more) in tech have impact on the starting age for programming?"
      ],
      "metadata": {
        "id": "ZdyGPBmjVZn_"
      }
    },
    {
      "cell_type": "markdown",
      "source": [
        "Your answer:"
      ],
      "metadata": {
        "id": "8fRCQaAfVZoA"
      }
    },
    {
      "cell_type": "code",
      "source": [],
      "metadata": {
        "id": "oZctVaRvVah9"
      },
      "execution_count": null,
      "outputs": []
    },
    {
      "cell_type": "markdown",
      "source": [
        "6. Assume that the students who gave response to this survey have a consistent studying habit. Based on that assumption, does studying with friends help with grades? What about note taking?\n",
        "\n"
      ],
      "metadata": {
        "id": "myaC0x74Va9H"
      }
    },
    {
      "cell_type": "markdown",
      "source": [
        "Your answer:"
      ],
      "metadata": {
        "id": "G-kuL8URVa9I"
      }
    },
    {
      "cell_type": "code",
      "source": [],
      "metadata": {
        "id": "Fy8YEg7lVcaq"
      },
      "execution_count": null,
      "outputs": []
    }
  ]
}