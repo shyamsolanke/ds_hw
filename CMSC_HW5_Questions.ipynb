{
  "nbformat": 4,
  "nbformat_minor": 0,
  "metadata": {
    "colab": {
      "provenance": [],
      "include_colab_link": true
    },
    "kernelspec": {
      "name": "python3",
      "display_name": "Python 3"
    },
    "language_info": {
      "name": "python"
    }
  },
  "cells": [
    {
      "cell_type": "markdown",
      "metadata": {
        "id": "view-in-github",
        "colab_type": "text"
      },
      "source": [
        "<a href=\"https://colab.research.google.com/github/shyamsolanke/ds_hw/blob/main/CMSC_HW5_Questions.ipynb\" target=\"_parent\"><img src=\"https://colab.research.google.com/assets/colab-badge.svg\" alt=\"Open In Colab\"/></a>"
      ]
    },
    {
      "cell_type": "markdown",
      "source": [
        "## Homework 5 Questions\n",
        "\n",
        "Same drill as Homework 3, the following questions are intended to get you familiarized with the [provided dataset](https://docs.google.com/spreadsheets/d/1tcqGAlaBOd9L9Lhb9u9_nUg9dSRY1usF80l2RNKiQN0/edit?usp=sharing). By answering these questions, it will hopefully give insights on how to complete the actual task (slide deck generation for the CEO).\n",
        "\n",
        "Please answer each of the questions below in the space provided. Copy the noteook, and when you're done, submit as an ipynb file. This will be graded on correctness. Please comment your code to help the grader figure out what you're doing. If you do a hypothesis test, please report all relevant p-values in the text field."
      ],
      "metadata": {
        "id": "fxezJKkMTtJS"
      }
    },
    {
      "cell_type": "markdown",
      "source": [
        "Imports and data loading:"
      ],
      "metadata": {
        "id": "eZm4jwhCU9xX"
      }
    },
    {
      "cell_type": "code",
      "execution_count": null,
      "metadata": {
        "id": "qnHUFnHVTlqX"
      },
      "outputs": [],
      "source": []
    },
    {
      "cell_type": "markdown",
      "source": [
        "Data cleaning:"
      ],
      "metadata": {
        "id": "r_RhtN5jU_hQ"
      }
    },
    {
      "cell_type": "code",
      "source": [],
      "metadata": {
        "id": "KG-ESjoDVAnW"
      },
      "execution_count": null,
      "outputs": []
    },
    {
      "cell_type": "markdown",
      "source": [
        "1. Which was the most predictive factor for GPA? i.e., which factor had the most \"power\" over predicting the GPA?"
      ],
      "metadata": {
        "id": "PKPy8qvbVBDe"
      }
    },
    {
      "cell_type": "markdown",
      "source": [
        "Your answer:"
      ],
      "metadata": {
        "id": "0te8wMswVImy"
      }
    },
    {
      "cell_type": "code",
      "source": [],
      "metadata": {
        "id": "5jvk4uAcVHTb"
      },
      "execution_count": null,
      "outputs": []
    },
    {
      "cell_type": "markdown",
      "source": [
        "2. Which factor(s) didn't matter in predicting the GPA?"
      ],
      "metadata": {
        "id": "s4gfMw7XVUOP"
      }
    },
    {
      "cell_type": "markdown",
      "source": [
        "Your answer:"
      ],
      "metadata": {
        "id": "RgYQ_JZ6VUOP"
      }
    },
    {
      "cell_type": "code",
      "source": [],
      "metadata": {
        "id": "Uq66LhOXVVTf"
      },
      "execution_count": null,
      "outputs": []
    },
    {
      "cell_type": "markdown",
      "source": [
        "3. Besides the GPA information, which two questions had the highest correlation?"
      ],
      "metadata": {
        "id": "itfurVmjVUwh"
      }
    },
    {
      "cell_type": "markdown",
      "source": [
        "Your answer:"
      ],
      "metadata": {
        "id": "Hsab2cOJVUwi"
      }
    },
    {
      "cell_type": "code",
      "source": [],
      "metadata": {
        "id": "SgLEm7YeVVrX"
      },
      "execution_count": null,
      "outputs": []
    },
    {
      "cell_type": "markdown",
      "source": [
        "4. Which one had more impact on students' quality of sleep, the amount of screen time or course load?"
      ],
      "metadata": {
        "id": "-BqivuyCVYJ_"
      }
    },
    {
      "cell_type": "markdown",
      "source": [
        "Your answer:"
      ],
      "metadata": {
        "id": "HghwQDbCVYKA"
      }
    },
    {
      "cell_type": "code",
      "source": [],
      "metadata": {
        "id": "wS4hi_FPVZVJ"
      },
      "execution_count": null,
      "outputs": []
    },
    {
      "cell_type": "markdown",
      "source": [
        "5. Does having a parent (or more) in tech have impact on the starting age for programming?"
      ],
      "metadata": {
        "id": "ZdyGPBmjVZn_"
      }
    },
    {
      "cell_type": "markdown",
      "source": [
        "Your answer:"
      ],
      "metadata": {
        "id": "8fRCQaAfVZoA"
      }
    },
    {
      "cell_type": "code",
      "source": [],
      "metadata": {
        "id": "oZctVaRvVah9"
      },
      "execution_count": null,
      "outputs": []
    },
    {
      "cell_type": "markdown",
      "source": [
        "6. Assume that the students who gave response to this survey have a consistent studying habit. Based on that assumption, does studying with friends help with grades? What about note taking?\n",
        "\n"
      ],
      "metadata": {
        "id": "myaC0x74Va9H"
      }
    },
    {
      "cell_type": "markdown",
      "source": [
        "Your answer:"
      ],
      "metadata": {
        "id": "G-kuL8URVa9I"
      }
    },
    {
      "cell_type": "code",
      "source": [],
      "metadata": {
        "id": "Fy8YEg7lVcaq"
      },
      "execution_count": null,
      "outputs": []
    }
  ]
}